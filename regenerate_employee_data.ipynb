{
 "cells": [
  {
   "cell_type": "markdown",
   "id": "9e1b7c10",
   "metadata": {},
   "source": [
    "Goal:\n",
    "Regenerate 100 employee records using improved methods like:\n",
    "\n",
    "append() for lists\n",
    "\n",
    "update() for dictionaries\n",
    "\n",
    "add() for sets\n",
    "\n",
    "remove() or pop() to manage data\n",
    "\n",
    "Use OOP (Object-Oriented Programming) to structure the code cleanly"
   ]
  },
  {
   "cell_type": "markdown",
   "id": "1c3fc880",
   "metadata": {},
   "source": [
    "Step 1: Define the Classes\n",
    "I’ll create two classes:\n",
    "\n",
    "1. Experience: to store each past job record.\n",
    "\n",
    "2. Employee: to store the employee’s profile, skills, and experiences."
   ]
  },
  {
   "cell_type": "code",
   "execution_count": 4,
   "id": "196d9604",
   "metadata": {},
   "outputs": [],
   "source": [
    "import random\n",
    "\n",
    "# Step 1: Define the Experience class\n",
    "class Experience:\n",
    "    def __init__(self, company_id, designation, salary, skills):\n",
    "        self.company_id = company_id\n",
    "        self.designation = designation\n",
    "        self.salary = salary\n",
    "        self.skills = skills\n",
    "\n",
    "    def to_dict(self):\n",
    "        return {\n",
    "            \"company-id\": self.company_id,\n",
    "            \"designation\": self.designation,\n",
    "            \"salary\": self.salary,\n",
    "            \"skills\": self.skills\n",
    "        }\n",
    "\n",
    "# Step 1: Define the Employee class\n",
    "class Employee:\n",
    "    def __init__(self, emp_id, name, designation, department, salary):\n",
    "        self.employee_id = emp_id\n",
    "        self.employee_name = name\n",
    "        self.designation = designation\n",
    "        self.department = department\n",
    "        self.employee_salary = salary\n",
    "        self.employee_skills = set()  # use set to avoid duplicates\n",
    "        self.experience = []\n",
    "\n",
    "    def add_experience(self, experience):\n",
    "        self.experience.append(experience)\n",
    "        self.employee_skills.update(experience.skills)  # update skills\n",
    "\n",
    "    def to_dict(self):\n",
    "        return {\n",
    "            \"employee_id\": self.employee_id,\n",
    "            \"employee_name\": self.employee_name,\n",
    "            \"designation\": self.designation,\n",
    "            \"department\": self.department,\n",
    "            \"employee_salary\": self.employee_salary,\n",
    "            \"employee_skills\": list(self.employee_skills),\n",
    "            \"experience\": [exp.to_dict() for exp in self.experience]\n",
    "        }\n"
   ]
  },
  {
   "cell_type": "markdown",
   "id": "e09f456c",
   "metadata": {},
   "source": [
    "Step 2: Generate Random Employee Data\n",
    "I'll:\n",
    "\n",
    "Create a list of names, skills, designations, and departments.\n",
    "\n",
    "Use Python's random module to create 100 employees with:\n",
    "\n",
    "Unique names\n",
    "\n",
    "Random salary, designation, department\n",
    "\n",
    "Two random job experiences per employee"
   ]
  },
  {
   "cell_type": "code",
   "execution_count": null,
   "id": "e531d74e",
   "metadata": {},
   "outputs": [],
   "source": [
    "import json\n",
    "\n",
    "# Sample data\n",
    "names = [\"Uzma\", \"Sara\", \"Ali\", \"Ahmed\", \"Ayesha\", \"Fatima\", \"Hassan\", \"Zara\", \"Bilal\", \"Nida\"]\n",
    "skills_list = [\"python\", \"java\", \"c++\", \"html\", \"css\", \"javascript\", \"sql\", \"react\", \"nodejs\", \"aws\"]\n",
    "designations = [\"engineer\", \"developer\", \"manager\", \"analyst\", \"consultant\", \"architect\", \"admin\"]\n",
    "departments = [\"software engineering\", \"data science\", \"devops\", \"QA\", \"HR\", \"marketing\", \"IT support\"]\n",
    "\n",
    "# Step 2: Function to generate a random Experience\n",
    "def generate_experience():\n",
    "    exp_skills = random.sample(skills_list, random.randint(2, 4))\n",
    "    return Experience(\n",
    "        company_id=random.randint(1, 50),\n",
    "        designation=random.choice(designations),\n",
    "        salary=random.randint(30000, 100000),\n",
    "        skills=exp_skills\n",
    "    )\n",
    "\n",
    "# Step 2: Create 100 Employees using the Employee class\n",
    "employees = []\n",
    "for i in range(1, 101):\n",
    "    emp_name = random.choice(names) + str(i)\n",
    "    emp = Employee(\n",
    "        emp_id=i,\n",
    "        name=emp_name,\n",
    "        designation=random.choice(designations),\n",
    "        department=random.choice(departments),\n",
    "        salary=random.randint(50000, 200000)\n",
    "    )\n",
    "\n",
    "    # Base skills\n",
    "    base_skills = random.sample(skills_list, random.randint(2, 4))\n",
    "    emp.employee_skills.update(base_skills)\n",
    "\n",
    "    # Add 2 random job experiences\n",
    "    for _ in range(2):\n",
    "        exp = generate_experience()\n",
    "        emp.add_experience(exp)\n",
    "\n",
    "    employees.append(emp.to_dict())\n"
   ]
  },
  {
   "cell_type": "markdown",
   "id": "ad831188",
   "metadata": {},
   "source": [
    "Step 3: Save to .json file and Display Sample Output\n",
    "In this step:\n",
    "\n",
    "1. Save the list of 100 employee dictionaries to a JSON file\n",
    "\n",
    "2. Display the first 3 employee records (as a sample output)"
   ]
  },
  {
   "cell_type": "code",
   "execution_count": 6,
   "id": "17afa315",
   "metadata": {},
   "outputs": [
    {
     "name": "stdout",
     "output_type": "stream",
     "text": [
      "File saved as employee_data_class.json\n",
      "\n",
      "Employee 1:\n",
      "{\n",
      "  \"employee_id\": 1,\n",
      "  \"employee_name\": \"Nida1\",\n",
      "  \"designation\": \"developer\",\n",
      "  \"department\": \"HR\",\n",
      "  \"employee_salary\": 185767,\n",
      "  \"employee_skills\": [\n",
      "    \"sql\",\n",
      "    \"html\",\n",
      "    \"javascript\",\n",
      "    \"aws\",\n",
      "    \"python\",\n",
      "    \"java\"\n",
      "  ],\n",
      "  \"experience\": [\n",
      "    {\n",
      "      \"company-id\": 30,\n",
      "      \"designation\": \"architect\",\n",
      "      \"salary\": 42401,\n",
      "      \"skills\": [\n",
      "        \"python\",\n",
      "        \"sql\",\n",
      "        \"java\",\n",
      "        \"html\"\n",
      "      ]\n",
      "    },\n",
      "    {\n",
      "      \"company-id\": 15,\n",
      "      \"designation\": \"engineer\",\n",
      "      \"salary\": 63289,\n",
      "      \"skills\": [\n",
      "        \"aws\",\n",
      "        \"javascript\"\n",
      "      ]\n",
      "    }\n",
      "  ]\n",
      "}\n",
      "\n",
      "Employee 2:\n",
      "{\n",
      "  \"employee_id\": 2,\n",
      "  \"employee_name\": \"Zara2\",\n",
      "  \"designation\": \"manager\",\n",
      "  \"department\": \"data science\",\n",
      "  \"employee_salary\": 193565,\n",
      "  \"employee_skills\": [\n",
      "    \"react\",\n",
      "    \"css\",\n",
      "    \"sql\",\n",
      "    \"html\",\n",
      "    \"nodejs\",\n",
      "    \"python\",\n",
      "    \"java\"\n",
      "  ],\n",
      "  \"experience\": [\n",
      "    {\n",
      "      \"company-id\": 42,\n",
      "      \"designation\": \"analyst\",\n",
      "      \"salary\": 69717,\n",
      "      \"skills\": [\n",
      "        \"java\",\n",
      "        \"react\"\n",
      "      ]\n",
      "    },\n",
      "    {\n",
      "      \"company-id\": 47,\n",
      "      \"designation\": \"analyst\",\n",
      "      \"salary\": 86830,\n",
      "      \"skills\": [\n",
      "        \"css\",\n",
      "        \"java\",\n",
      "        \"nodejs\"\n",
      "      ]\n",
      "    }\n",
      "  ]\n",
      "}\n",
      "\n",
      "Employee 3:\n",
      "{\n",
      "  \"employee_id\": 3,\n",
      "  \"employee_name\": \"Fatima3\",\n",
      "  \"designation\": \"architect\",\n",
      "  \"department\": \"IT support\",\n",
      "  \"employee_salary\": 75890,\n",
      "  \"employee_skills\": [\n",
      "    \"react\",\n",
      "    \"sql\",\n",
      "    \"javascript\",\n",
      "    \"nodejs\",\n",
      "    \"java\",\n",
      "    \"c++\"\n",
      "  ],\n",
      "  \"experience\": [\n",
      "    {\n",
      "      \"company-id\": 30,\n",
      "      \"designation\": \"developer\",\n",
      "      \"salary\": 98181,\n",
      "      \"skills\": [\n",
      "        \"java\",\n",
      "        \"react\"\n",
      "      ]\n",
      "    },\n",
      "    {\n",
      "      \"company-id\": 19,\n",
      "      \"designation\": \"consultant\",\n",
      "      \"salary\": 90352,\n",
      "      \"skills\": [\n",
      "        \"c++\",\n",
      "        \"javascript\",\n",
      "        \"nodejs\"\n",
      "      ]\n",
      "    }\n",
      "  ]\n",
      "}\n"
     ]
    }
   ],
   "source": [
    "# Step 3: Save employee data to a JSON file\n",
    "with open(\"employee_data_class.json\", \"w\") as f:\n",
    "    json.dump(employees, f, indent=2)\n",
    "\n",
    "print(\"File saved as employee_data_class.json\")\n",
    "\n",
    "# Step 3: Display sample output (first 3 employees)\n",
    "for i, emp in enumerate(employees[:3], start=1):\n",
    "    print(f\"\\nEmployee {i}:\")\n",
    "    print(json.dumps(emp, indent=2))"
   ]
  },
  {
   "cell_type": "markdown",
   "id": "b8d83896",
   "metadata": {},
   "source": [
    "Step 4: Practice with List and Dictionary Methods\n",
    "In this step:\n",
    "\n",
    "1. Use methods like append, update, remove, and pop\n",
    "\n",
    "2. Apply them meaningfully on the employee data\n",
    "\n",
    "3. Perform the following tasks on the existing employees list:"
   ]
  },
  {
   "cell_type": "markdown",
   "id": "568af413",
   "metadata": {},
   "source": [
    "1. Append a New Skill to an Employee"
   ]
  },
  {
   "cell_type": "code",
   "execution_count": 7,
   "id": "14bec0a4",
   "metadata": {},
   "outputs": [
    {
     "name": "stdout",
     "output_type": "stream",
     "text": [
      "Added 'docker' to Employee 1 skills: ['sql', 'html', 'javascript', 'aws', 'python', 'java', 'docker']\n"
     ]
    }
   ],
   "source": [
    "# Add a new skill to the first employee\n",
    "employees[0][\"employee_skills\"].append(\"docker\")\n",
    "print(\"Added 'docker' to Employee 1 skills:\", employees[0][\"employee_skills\"])"
   ]
  },
  {
   "cell_type": "markdown",
   "id": "070c3d91",
   "metadata": {},
   "source": [
    "2. Update the Designation of an Employee"
   ]
  },
  {
   "cell_type": "code",
   "execution_count": 8,
   "id": "3ee86c77",
   "metadata": {},
   "outputs": [
    {
     "name": "stdout",
     "output_type": "stream",
     "text": [
      "Updated designation of Employee 2: Senior manager\n"
     ]
    }
   ],
   "source": [
    "# Update designation of second employee\n",
    "employees[1].update({\"designation\": \"Senior \" + employees[1][\"designation\"]})\n",
    "print(\"Updated designation of Employee 2:\", employees[1][\"designation\"])"
   ]
  },
  {
   "cell_type": "markdown",
   "id": "321073d6",
   "metadata": {},
   "source": [
    "3. Remove a Skill from an Employee's Skill List"
   ]
  },
  {
   "cell_type": "code",
   "execution_count": 9,
   "id": "cd821543",
   "metadata": {},
   "outputs": [
    {
     "name": "stdout",
     "output_type": "stream",
     "text": [
      "Removed 'java' from Employee 3 skills: ['react', 'sql', 'javascript', 'nodejs', 'c++']\n"
     ]
    }
   ],
   "source": [
    "# Remove 'java' if it exists in third employee's skills\n",
    "if \"java\" in employees[2][\"employee_skills\"]:\n",
    "    employees[2][\"employee_skills\"].remove(\"java\")\n",
    "    print(\"Removed 'java' from Employee 3 skills:\", employees[2][\"employee_skills\"])\n",
    "else:\n",
    "    print(\"'java' not found in Employee 3 skills\")"
   ]
  },
  {
   "cell_type": "markdown",
   "id": "2f5cea65",
   "metadata": {},
   "source": [
    "4. Pop Last Experience from an Employee"
   ]
  },
  {
   "cell_type": "code",
   "execution_count": 10,
   "id": "9b6c9903",
   "metadata": {},
   "outputs": [
    {
     "name": "stdout",
     "output_type": "stream",
     "text": [
      "Removed experience from Employee 4: {'company-id': 4, 'designation': 'admin', 'salary': 88833, 'skills': ['react', 'c++', 'html', 'nodejs']}\n"
     ]
    }
   ],
   "source": [
    "# Pop last experience of Employee 4\n",
    "removed_exp = employees[3][\"experience\"].pop()\n",
    "print(\"Removed experience from Employee 4:\", removed_exp)"
   ]
  },
  {
   "cell_type": "markdown",
   "id": "9f5dab8d",
   "metadata": {},
   "source": [
    "Step 5: Add More Logic — Filtering and Searching\n",
    "Let’s write code to search and filter through the 100 employee records based on certain conditions."
   ]
  },
  {
   "cell_type": "markdown",
   "id": "9b18c140",
   "metadata": {},
   "source": [
    "1. Filter Employees by Department"
   ]
  },
  {
   "cell_type": "code",
   "execution_count": 11,
   "id": "738219d0",
   "metadata": {},
   "outputs": [
    {
     "name": "stdout",
     "output_type": "stream",
     "text": [
      "Total employees in Data Science: 16\n"
     ]
    }
   ],
   "source": [
    "# Find all employees in the 'data science' department\n",
    "data_science_employees = [emp for emp in employees if emp[\"department\"] == \"data science\"]\n",
    "print(f\"Total employees in Data Science: {len(data_science_employees)}\")"
   ]
  },
  {
   "cell_type": "markdown",
   "id": "4bbf8929",
   "metadata": {},
   "source": [
    "2. Search Employees with a Specific Skill"
   ]
  },
  {
   "cell_type": "code",
   "execution_count": 12,
   "id": "99468843",
   "metadata": {},
   "outputs": [
    {
     "name": "stdout",
     "output_type": "stream",
     "text": [
      "Employees with Python skill: 67\n"
     ]
    }
   ],
   "source": [
    "# Find employees who know 'python'\n",
    "python_devs = [emp for emp in employees if \"python\" in emp[\"employee_skills\"]]\n",
    "print(f\"Employees with Python skill: {len(python_devs)}\")"
   ]
  },
  {
   "cell_type": "markdown",
   "id": "558ec00c",
   "metadata": {},
   "source": [
    "3. Filter Employees with Salary Above a Threshold"
   ]
  },
  {
   "cell_type": "code",
   "execution_count": 13,
   "id": "0ef65560",
   "metadata": {},
   "outputs": [
    {
     "name": "stdout",
     "output_type": "stream",
     "text": [
      "Employees with salary above 100000: 66\n"
     ]
    }
   ],
   "source": [
    "# List employees with salary > 100000\n",
    "high_salary = [emp for emp in employees if emp[\"employee_salary\"] > 100000]\n",
    "print(f\"Employees with salary above 100000: {len(high_salary)}\")"
   ]
  },
  {
   "cell_type": "markdown",
   "id": "475c95fb",
   "metadata": {},
   "source": [
    "4. Get Unique Skills Across All Employees"
   ]
  },
  {
   "cell_type": "code",
   "execution_count": 14,
   "id": "03ef2634",
   "metadata": {},
   "outputs": [
    {
     "name": "stdout",
     "output_type": "stream",
     "text": [
      "Total unique skills found: 11\n"
     ]
    }
   ],
   "source": [
    "# Collect all unique skills\n",
    "all_skills = set()\n",
    "for emp in employees:\n",
    "    all_skills.update(emp[\"employee_skills\"])\n",
    "print(\"Total unique skills found:\", len(all_skills))"
   ]
  },
  {
   "cell_type": "markdown",
   "id": "c77e4dbc",
   "metadata": {},
   "source": [
    "Sorting Employee Records\n",
    "1. Sort by Salary (High to Low)"
   ]
  },
  {
   "cell_type": "code",
   "execution_count": 15,
   "id": "b1749121",
   "metadata": {},
   "outputs": [
    {
     "name": "stdout",
     "output_type": "stream",
     "text": [
      "\n",
      "Top 1 Highest Paid Employee:\n",
      "Name: Nida72, Salary: 199867\n",
      "\n",
      "Top 2 Highest Paid Employee:\n",
      "Name: Ali22, Salary: 198909\n",
      "\n",
      "Top 3 Highest Paid Employee:\n",
      "Name: Fatima16, Salary: 195480\n",
      "\n",
      "Top 4 Highest Paid Employee:\n",
      "Name: Ahmed78, Salary: 195132\n",
      "\n",
      "Top 5 Highest Paid Employee:\n",
      "Name: Zara2, Salary: 193565\n"
     ]
    }
   ],
   "source": [
    "# Sort employees by salary in descending order\n",
    "sorted_by_salary_desc = sorted(employees, key=lambda x: x[\"employee_salary\"], reverse=True)\n",
    "\n",
    "# Display top 5 highest-paid employees\n",
    "for i, emp in enumerate(sorted_by_salary_desc[:5], start=1):\n",
    "    print(f\"\\nTop {i} Highest Paid Employee:\")\n",
    "    print(f\"Name: {emp['employee_name']}, Salary: {emp['employee_salary']}\")"
   ]
  },
  {
   "cell_type": "markdown",
   "id": "32a29da0",
   "metadata": {},
   "source": [
    "2. Sort by Name (A to Z)"
   ]
  },
  {
   "cell_type": "code",
   "execution_count": 17,
   "id": "db36333d",
   "metadata": {},
   "outputs": [
    {
     "name": "stdout",
     "output_type": "stream",
     "text": [
      "\n",
      "Employee 1: Ahmed21\n",
      "\n",
      "Employee 2: Ahmed41\n",
      "\n",
      "Employee 3: Ahmed54\n",
      "\n",
      "Employee 4: Ahmed55\n",
      "\n",
      "Employee 5: Ahmed59\n"
     ]
    }
   ],
   "source": [
    "# Sort employees alphabetically by name\n",
    "sorted_by_name = sorted(employees, key=lambda x: x[\"employee_name\"])\n",
    "\n",
    "# Display first 5 employees alphabetically\n",
    "for i, emp in enumerate(sorted_by_name[:5], start=1):\n",
    "    print(f\"\\nEmployee {i}: {emp['employee_name']}\")"
   ]
  },
  {
   "cell_type": "markdown",
   "id": "45f89d2f",
   "metadata": {},
   "source": [
    "3. Sort by Number of Skills (Most Skilled First)"
   ]
  },
  {
   "cell_type": "code",
   "execution_count": 18,
   "id": "b48125a9",
   "metadata": {},
   "outputs": [
    {
     "name": "stdout",
     "output_type": "stream",
     "text": [
      "\n",
      "Employee 1: Hassan4 - Skills: 8\n",
      "\n",
      "Employee 2: Nida6 - Skills: 8\n",
      "\n",
      "Employee 3: Fatima12 - Skills: 8\n",
      "\n",
      "Employee 4: Ali22 - Skills: 8\n",
      "\n",
      "Employee 5: Nida25 - Skills: 8\n"
     ]
    }
   ],
   "source": [
    "# Sort employees by how many skills they have\n",
    "sorted_by_skills = sorted(employees, key=lambda x: len(x[\"employee_skills\"]), reverse=True)\n",
    "\n",
    "# Display top 5 most skilled employees\n",
    "for i, emp in enumerate(sorted_by_skills[:5], start=1):\n",
    "    print(f\"\\nEmployee {i}: {emp['employee_name']} - Skills: {len(emp['employee_skills'])}\")"
   ]
  },
  {
   "cell_type": "markdown",
   "id": "ac493b86",
   "metadata": {},
   "source": [
    "Step 6: Generate Employee Records Using OOP\n",
    "1. Define the Experience Class"
   ]
  },
  {
   "cell_type": "code",
   "execution_count": 19,
   "id": "ff7570b2",
   "metadata": {},
   "outputs": [],
   "source": [
    "import random\n",
    "\n",
    "class Experience:\n",
    "    def __init__(self, company_id, designation, salary, skills):\n",
    "        self.company_id = company_id\n",
    "        self.designation = designation\n",
    "        self.salary = salary\n",
    "        self.skills = skills\n",
    "\n",
    "    def to_dict(self):\n",
    "        return {\n",
    "            \"company_id\": self.company_id,\n",
    "            \"designation\": self.designation,\n",
    "            \"salary\": self.salary,\n",
    "            \"skills\": self.skills\n",
    "        }\n"
   ]
  },
  {
   "cell_type": "markdown",
   "id": "36480a1d",
   "metadata": {},
   "source": [
    "2. Define the Employee Class"
   ]
  },
  {
   "cell_type": "code",
   "execution_count": 20,
   "id": "149e681c",
   "metadata": {},
   "outputs": [],
   "source": [
    "class Employee:\n",
    "    def __init__(self, emp_id, name, designation, department, salary, base_skills):\n",
    "        self.emp_id = emp_id\n",
    "        self.name = name\n",
    "        self.designation = designation\n",
    "        self.department = department\n",
    "        self.salary = salary\n",
    "        self.base_skills = base_skills\n",
    "        self.experiences = []\n",
    "\n",
    "    def add_experience(self, experience):\n",
    "        self.experiences.append(experience)\n",
    "\n",
    "    def all_skills(self):\n",
    "        skill_set = set(self.base_skills)\n",
    "        for exp in self.experiences:\n",
    "            skill_set.update(exp.skills)\n",
    "        return list(skill_set)\n",
    "\n",
    "    def to_dict(self):\n",
    "        return {\n",
    "            \"employee_id\": self.emp_id,\n",
    "            \"employee_name\": self.name,\n",
    "            \"designation\": self.designation,\n",
    "            \"department\": self.department,\n",
    "            \"employee_salary\": self.salary,\n",
    "            \"employee_skills\": self.all_skills(),\n",
    "            \"experience\": [exp.to_dict() for exp in self.experiences]\n",
    "        }\n"
   ]
  },
  {
   "cell_type": "markdown",
   "id": "4b13a9b4",
   "metadata": {},
   "source": [
    "3. Generate 100 Employees"
   ]
  },
  {
   "cell_type": "code",
   "execution_count": null,
   "id": "f74d65c1",
   "metadata": {},
   "outputs": [
    {
     "name": "stdout",
     "output_type": "stream",
     "text": [
      "Generated 100 employees using OOP and saved as employee_data_oop.json\n"
     ]
    }
   ],
   "source": [
    "import json\n",
    "\n",
    "names = [\"Uzma\", \"Sara\", \"Ali\", \"Ahmed\", \"Ayesha\", \"Fatima\", \"Hassan\", \"Zara\", \"Bilal\", \"Nida\"]\n",
    "skills_list = [\"python\", \"java\", \"c++\", \"html\", \"css\", \"javascript\", \"sql\", \"react\", \"nodejs\", \"aws\"]\n",
    "designations = [\"engineer\", \"developer\", \"manager\", \"analyst\", \"consultant\", \"architect\", \"admin\"]\n",
    "departments = [\"software engineering\", \"data science\", \"devops\", \"QA\", \"HR\", \"marketing\", \"IT support\"]\n",
    "\n",
    "employees = []\n",
    "\n",
    "for i in range(1, 101):\n",
    "    name = random.choice(names) + str(i)\n",
    "    base_skills = random.sample(skills_list, random.randint(2, 4))\n",
    "    designation = random.choice(designations)\n",
    "    department = random.choice(departments)\n",
    "    salary = random.randint(50000, 200000)\n",
    "    emp = Employee(i, name, designation, department, salary, base_skills)\n",
    "\n",
    "    for _ in range(2):  # Add 2 experiences\n",
    "        exp_skills = random.sample(skills_list, random.randint(2, 5))\n",
    "        exp = Experience(\n",
    "            company_id=random.randint(1, 50),\n",
    "            designation=random.choice(designations),\n",
    "            salary=random.randint(30000, 100000),\n",
    "            skills=exp_skills\n",
    "        )\n",
    "        emp.add_experience(exp)\n",
    "\n",
    "    employees.append(emp.to_dict())\n",
    "\n",
    "# Save to JSON\n",
    "with open(\"employee_data_oop.json\", \"w\") as f:\n",
    "    json.dump(employees, f, indent=2)\n",
    "\n",
    "print(\"Generated 100 employees using OOP and saved as employee_data_oop.json\")\n"
   ]
  },
  {
   "cell_type": "markdown",
   "id": "cb3dfd1d",
   "metadata": {},
   "source": [
    "Step 7: Filter Employees by Department or Skills"
   ]
  },
  {
   "cell_type": "markdown",
   "id": "80f5ec9e",
   "metadata": {},
   "source": [
    "1. Filter Employees by Department\n",
    "Example: Get all employees who work in Data Science"
   ]
  },
  {
   "cell_type": "code",
   "execution_count": 22,
   "id": "75f33c7e",
   "metadata": {},
   "outputs": [
    {
     "name": "stdout",
     "output_type": "stream",
     "text": [
      "Employees in Data Science department: 13\n",
      "Ali8 - data science\n",
      "Hassan13 - data science\n",
      "Ali21 - data science\n"
     ]
    }
   ],
   "source": [
    "def filter_by_department(employees, dept):\n",
    "    return [emp for emp in employees if emp['department'] == dept]\n",
    "\n",
    "data_science_employees = filter_by_department(employees, \"data science\")\n",
    "\n",
    "print(f\"Employees in Data Science department: {len(data_science_employees)}\")\n",
    "for emp in data_science_employees[:3]:  # show first 3 employees\n",
    "    print(emp['employee_name'], \"-\", emp['department'])"
   ]
  },
  {
   "cell_type": "markdown",
   "id": "857fced9",
   "metadata": {},
   "source": [
    "2. Filter Employees by Skill\n",
    "Example: Get all employees who know python"
   ]
  },
  {
   "cell_type": "code",
   "execution_count": 23,
   "id": "a229eab9",
   "metadata": {},
   "outputs": [
    {
     "name": "stdout",
     "output_type": "stream",
     "text": [
      "Employees with Python skill: 64\n",
      "Zara1 - ['react', 'html', 'aws', 'python', 'c++']\n",
      "Bilal2 - ['react', 'sql', 'css', 'html', 'javascript', 'nodejs', 'python', 'java']\n",
      "Fatima3 - ['sql', 'css', 'aws', 'javascript', 'nodejs', 'python', 'java']\n"
     ]
    }
   ],
   "source": [
    "def filter_by_skill(employees, skill):\n",
    "    return [emp for emp in employees if skill in emp['employee_skills']]\n",
    "\n",
    "python_devs = filter_by_skill(employees, \"python\")\n",
    "\n",
    "print(f\"Employees with Python skill: {len(python_devs)}\")\n",
    "for emp in python_devs[:3]:  # show first 3 employees\n",
    "    print(emp['employee_name'], \"-\", emp['employee_skills'])"
   ]
  },
  {
   "cell_type": "markdown",
   "id": "b03913ce",
   "metadata": {},
   "source": [
    "3. Bonus: Filter by Multiple Skills\n",
    "Get employees who have both python and java"
   ]
  },
  {
   "cell_type": "code",
   "execution_count": 24,
   "id": "6610bcf8",
   "metadata": {},
   "outputs": [
    {
     "name": "stdout",
     "output_type": "stream",
     "text": [
      "Employees with Python & Java skills: 43\n",
      "Bilal2 - ['react', 'sql', 'css', 'html', 'javascript', 'nodejs', 'python', 'java']\n",
      "Fatima3 - ['sql', 'css', 'aws', 'javascript', 'nodejs', 'python', 'java']\n",
      "Sara4 - ['react', 'sql', 'html', 'aws', 'javascript', 'nodejs', 'python', 'java', 'c++']\n"
     ]
    }
   ],
   "source": [
    "def filter_by_skills(employees, skills):\n",
    "    return [emp for emp in employees if all(skill in emp['employee_skills'] for skill in skills)]\n",
    "\n",
    "py_java_devs = filter_by_skills(employees, [\"python\", \"java\"])\n",
    "\n",
    "print(f\"Employees with Python & Java skills: {len(py_java_devs)}\")\n",
    "for emp in py_java_devs[:3]:\n",
    "    print(emp['employee_name'], \"-\", emp['employee_skills'])"
   ]
  },
  {
   "cell_type": "markdown",
   "id": "bb4a9f04",
   "metadata": {},
   "source": [
    "Step 8: Save Filtered/Sorted Data to JSON"
   ]
  },
  {
   "cell_type": "code",
   "execution_count": 25,
   "id": "06553105",
   "metadata": {},
   "outputs": [
    {
     "name": "stdout",
     "output_type": "stream",
     "text": [
      "Filtered employee data saved as filtered_employees.json\n"
     ]
    }
   ],
   "source": [
    "import json\n",
    "\n",
    "# Suppose you have a filtered list, e.g., python_devs from step 7\n",
    "filtered_employees = python_devs  # or any filtered/sorted list\n",
    "\n",
    "# Save to a new JSON file\n",
    "with open(\"filtered_employees.json\", \"w\") as f:\n",
    "    json.dump(filtered_employees, f, indent=2)\n",
    "\n",
    "print(\"Filtered employee data saved as filtered_employees.json\")"
   ]
  }
 ],
 "metadata": {
  "kernelspec": {
   "display_name": "smit_env",
   "language": "python",
   "name": "python3"
  },
  "language_info": {
   "codemirror_mode": {
    "name": "ipython",
    "version": 3
   },
   "file_extension": ".py",
   "mimetype": "text/x-python",
   "name": "python",
   "nbconvert_exporter": "python",
   "pygments_lexer": "ipython3",
   "version": "3.13.2"
  }
 },
 "nbformat": 4,
 "nbformat_minor": 5
}
